{
  "cells": [
    {
      "cell_type": "code",
      "execution_count": 3,
      "metadata": {
        "colab": {
          "base_uri": "https://localhost:8080/"
        },
        "id": "n5r76V8JF-S3",
        "outputId": "a093dc00-9198-4024-fb03-f11c9db2f511"
      },
      "outputs": [
        {
          "name": "stdout",
          "output_type": "stream",
          "text": [
            "\n",
            "📄 Review 1: I just bought a new Apple iPhone 13, and it's amazing! The battery life is great.\n",
            "Entities (spaCy): [('Apple', 'ORG')]\n",
            "TextBlob Sentiment: Positive (0.56)\n",
            "Rule-based Sentiment: Positive\n",
            "\n",
            "📄 Review 2: My new Apple iPhone 14 Pro Max is incredible. I especially love the camera!\n",
            "Entities (spaCy): [('Apple', 'ORG')]\n",
            "TextBlob Sentiment: Positive (0.68)\n",
            "Rule-based Sentiment: Positive\n",
            "\n",
            "📄 Review 3: I am not impressed with the Samsung Galaxy 22. It is slow and overpriced.\n",
            "Entities (spaCy): []\n",
            "TextBlob Sentiment: Negative (-0.40)\n",
            "Rule-based Sentiment: Negative\n",
            "\n",
            "📄 Review 4: The new Sony headphones are just annoying. The sound is especially terrible\n",
            "Entities (spaCy): [('Sony', 'ORG')]\n",
            "TextBlob Sentiment: Negative (-0.32)\n",
            "Rule-based Sentiment: Negative\n"
          ]
        }
      ],
      "source": [
        "import spacy\n",
        "from textblob import TextBlob\n",
        "\n",
        "# Load spaCy model\n",
        "nlp = spacy.load(\"en_core_web_sm\")\n",
        "\n",
        "# Sample Amazon reviews\n",
        "reviews = [\n",
        "    \"I just bought a new Apple iPhone 13, and it's amazing! The battery life is great.\",\n",
        "    \"My new Apple iPhone 14 Pro Max is incredible. I especially love the camera!\",\n",
        "    \"I am not impressed with the Samsung Galaxy 22. It is slow and overpriced.\",\n",
        "    \"The new Sony headphones are just annoying. The sound is especially terrible\"\n",
        "]\n",
        "\n",
        "# Positive and negative keywords (lowercase for easy matching)\n",
        "positive_words = [\"amazing\", \"great\", \"love\", \"incredible\", \"excellent\", \"perfect\"]\n",
        "negative_words = [\"slow\", \"overpriced\", \"bad\", \"terrible\", \"disappointed\", \"annoying\"]\n",
        "\n",
        "# Process each review\n",
        "for idx, review in enumerate(reviews, start=1):\n",
        "    print(f\"\\n📄 Review {idx}: {review}\")\n",
        "\n",
        "    # spaCy processing\n",
        "    doc = nlp(review)\n",
        "\n",
        "    # Named Entity Recognition\n",
        "    entities = [(ent.text, ent.label_) for ent in doc.ents if ent.label_ in ['PRODUCT', 'ORG']]\n",
        "\n",
        "    # Rule-based sentiment\n",
        "    rule_sentiment = \"Neutral\"\n",
        "    for token in doc:\n",
        "        if token.text.lower() in positive_words:\n",
        "            rule_sentiment = \"Positive\"\n",
        "            break\n",
        "        elif token.text.lower() in negative_words:\n",
        "            rule_sentiment = \"Negative\"\n",
        "            break\n",
        "\n",
        "    # TextBlob Sentiment\n",
        "    blob_polarity = TextBlob(review).sentiment.polarity\n",
        "    blob_sentiment = \"Positive\" if blob_polarity > 0 else \"Negative\" if blob_polarity < 0 else \"Neutral\"\n",
        "\n",
        "    # Results\n",
        "    print(\"Entities (spaCy):\", entities)\n",
        "    print(f\"TextBlob Sentiment: {blob_sentiment} ({blob_polarity:.2f})\")\n",
        "    print(f\"Rule-based Sentiment: {rule_sentiment}\")\n"
      ]
    }
  ],
  "metadata": {
    "colab": {
      "provenance": []
    },
    "kernelspec": {
      "display_name": "Python 3",
      "name": "python3"
    },
    "language_info": {
      "name": "python"
    }
  },
  "nbformat": 4,
  "nbformat_minor": 0
}
