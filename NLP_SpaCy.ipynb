{
  "nbformat": 4,
  "nbformat_minor": 0,
  "metadata": {
    "colab": {
      "provenance": [],
      "authorship_tag": "ABX9TyPkCblcanMv43dFUZFTeq7u",
      "include_colab_link": true
    },
    "kernelspec": {
      "name": "python3",
      "display_name": "Python 3"
    },
    "language_info": {
      "name": "python"
    }
  },
  "cells": [
    {
      "cell_type": "markdown",
      "metadata": {
        "id": "view-in-github",
        "colab_type": "text"
      },
      "source": [
        "<a href=\"https://colab.research.google.com/github/Stananayo/Grp43_AI_SE_Wk3_assignment/blob/main/NLP_SpaCy.ipynb\" target=\"_parent\"><img src=\"https://colab.research.google.com/assets/colab-badge.svg\" alt=\"Open In Colab\"/></a>"
      ]
    },
    {
      "cell_type": "code",
      "execution_count": 1,
      "metadata": {
        "colab": {
          "base_uri": "https://localhost:8080/"
        },
        "id": "Dg2kfYrKikB7",
        "outputId": "bbf25bac-a787-4a91-9fad-0bdfd04eaa47"
      },
      "outputs": [
        {
          "output_type": "stream",
          "name": "stdout",
          "text": [
            "Named Entities: [('Apple', 'ORG')]\n",
            "Sentiment: Positive (0.56)\n"
          ]
        }
      ],
      "source": [
        "import spacy\n",
        "from textblob import TextBlob\n",
        "\n",
        "# Load spaCy model\n",
        "nlp = spacy.load(\"en_core_web_sm\")\n",
        "\n",
        "# Sample Amazon review\n",
        "review = \"I just bought a new Apple iPhone 13, and it's amazing! The battery life is great.\"\n",
        "\n",
        "# Named Entity Recognition (NER)\n",
        "doc = nlp(review)\n",
        "entities = [(ent.text, ent.label_) for ent in doc.ents if ent.label_ in ['PRODUCT', 'ORG']]\n",
        "print(\"Named Entities:\", entities)\n",
        "\n",
        "# Sentiment Analysis (rule-based)\n",
        "sentiment = TextBlob(review).sentiment.polarity\n",
        "sentiment_label = \"Positive\" if sentiment > 0 else \"Negative\"\n",
        "print(f\"Sentiment: {sentiment_label} ({sentiment:.2f})\")\n"
      ]
    }
  ]
}